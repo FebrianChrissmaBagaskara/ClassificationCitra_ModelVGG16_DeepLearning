{
  "nbformat": 4,
  "nbformat_minor": 0,
  "metadata": {
    "colab": {
      "provenance": [],
      "gpuType": "T4"
    },
    "kernelspec": {
      "name": "python3",
      "display_name": "Python 3"
    },
    "language_info": {
      "name": "python"
    },
    "accelerator": "GPU",
    "gpuClass": "standard"
  },
  "cells": [
    {
      "cell_type": "markdown",
      "source": [
        "Nama : Febrian Chrissma Bagaskara <br>\n",
        "NIM  : F55120059"
      ],
      "metadata": {
        "id": "2TbQ09eWjOXH"
      }
    },
    {
      "cell_type": "markdown",
      "source": [
        "#Koneksi Google Drive"
      ],
      "metadata": {
        "id": "sbPtuUstpV4p"
      }
    },
    {
      "cell_type": "markdown",
      "source": [
        "Mengkoneksikan Ke dalam Google Drive > gdrive"
      ],
      "metadata": {
        "id": "MZIF0bWGodWg"
      }
    },
    {
      "cell_type": "code",
      "source": [
        "from google.colab import drive\n",
        "# connect to Gdrive\n",
        "drive.mount('/content/gdrive', force_remount=True)"
      ],
      "metadata": {
        "colab": {
          "base_uri": "https://localhost:8080/"
        },
        "id": "DBhivH8Y9UlD",
        "outputId": "776d64d0-8de7-40b1-e173-1a8ada262ba4"
      },
      "execution_count": null,
      "outputs": [
        {
          "output_type": "stream",
          "name": "stdout",
          "text": [
            "Mounted at /content/gdrive\n"
          ]
        }
      ]
    },
    {
      "cell_type": "markdown",
      "source": [
        "memilih folder Vgg16-Orange dari google drive"
      ],
      "metadata": {
        "id": "Y_VnSjBZono7"
      }
    },
    {
      "cell_type": "code",
      "source": [
        "%cd gdrive/MyDrive/Vgg16-Orange"
      ],
      "metadata": {
        "colab": {
          "base_uri": "https://localhost:8080/"
        },
        "id": "JRsm_BWu9iSx",
        "outputId": "25006266-f49b-483a-a615-ca9b8860430b"
      },
      "execution_count": null,
      "outputs": [
        {
          "output_type": "stream",
          "name": "stdout",
          "text": [
            "/content/gdrive/MyDrive/Vgg16-Orange\n"
          ]
        }
      ]
    },
    {
      "cell_type": "markdown",
      "source": [
        "#Prosessing Images"
      ],
      "metadata": {
        "id": "S0OyrwqKpb4S"
      }
    },
    {
      "cell_type": "markdown",
      "source": [
        "Memasukan library yang akan digunakan"
      ],
      "metadata": {
        "id": "_w5cOxu6o04x"
      }
    },
    {
      "cell_type": "code",
      "execution_count": null,
      "metadata": {
        "id": "_wt9fJVupI20"
      },
      "outputs": [],
      "source": [
        "import tensorflow as tf\n",
        "import numpy as np\n",
        "from tensorflow.keras.models import Sequential\n",
        "from tensorflow.keras.layers import Conv2D, MaxPooling2D, Flatten, Dense\n",
        "from tensorflow.keras.preprocessing.image import ImageDataGenerator\n",
        "from tensorflow.keras.preprocessing import image\n",
        "from keras.optimizers import Adam\n",
        "import matplotlib.pyplot as plt\n",
        "from tensorflow.keras.models import load_model\n",
        "     \n"
      ]
    },
    {
      "cell_type": "markdown",
      "source": [
        "Menginisialisasi masing-masing folder yang akan digunakan"
      ],
      "metadata": {
        "id": "Bj5hwu1Vo5LI"
      }
    },
    {
      "cell_type": "markdown",
      "source": [
        "https://drive.google.com/drive/folders/1JcAz3cY4AIs23XwTS1u5Aec_YlhI47Nb?usp=share_link"
      ],
      "metadata": {
        "id": "ZrGoucjSqQjr"
      }
    },
    {
      "cell_type": "code",
      "source": [
        "data_train ='Data-Training-Jeruk/'\n",
        "data_test ='Data-Testing-Jeruk/'\n",
        "data_predict ='Data-Predict-Jeruk/'"
      ],
      "metadata": {
        "id": "NLFS2LCAB_3a"
      },
      "execution_count": null,
      "outputs": []
    },
    {
      "cell_type": "markdown",
      "source": [
        "Preprocessing Images untuk gambar yang akan digunakan"
      ],
      "metadata": {
        "id": "7hldlXDTpAk0"
      }
    },
    {
      "cell_type": "code",
      "source": [
        "from tensorflow.keras.preprocessing.image import ImageDataGenerator\n",
        "# Initialize Generator\n",
        "gen = ImageDataGenerator(\n",
        "    rescale=1./255,\n",
        "    horizontal_flip=True, \n",
        "    rotation_range=20,\n",
        "    validation_split=0.2\n",
        ")\n",
        "\n",
        "train_ds=gen.flow_from_directory(\n",
        "    data_train,\n",
        "    target_size= (224, 224), \n",
        "    shuffle=True,\n",
        "    batch_size=32,\n",
        "    class_mode='categorical',\n",
        "    subset = \"training\"\n",
        ")\n",
        "\n",
        "validation_ds=gen.flow_from_directory(\n",
        "    data_test,\n",
        "    class_mode='categorical',\n",
        "    shuffle=True,\n",
        "    batch_size=32,\n",
        "    target_size=(244,244),\n",
        "    subset=\"validation\"\n",
        ")"
      ],
      "metadata": {
        "colab": {
          "base_uri": "https://localhost:8080/"
        },
        "id": "ff0YyQIpCSvB",
        "outputId": "0211cd71-aeef-43da-d7a4-bbce8ccf809d"
      },
      "execution_count": null,
      "outputs": [
        {
          "output_type": "stream",
          "name": "stdout",
          "text": [
            "Found 250 images belonging to 2 classes.\n",
            "Found 20 images belonging to 2 classes.\n"
          ]
        }
      ]
    },
    {
      "cell_type": "markdown",
      "source": [
        "#Model CNN"
      ],
      "metadata": {
        "id": "Njb1XW6Mpjok"
      }
    },
    {
      "cell_type": "markdown",
      "source": [
        "Membuat model dari CNN Model"
      ],
      "metadata": {
        "id": "CPQdPgXIprXm"
      }
    },
    {
      "cell_type": "code",
      "source": [
        "# Create CNN Model\n",
        "model=Sequential()\n",
        "\n",
        "# Menambahkan blok-blok konvolusi\n",
        "model.add(Conv2D(64, (3, 3), activation='relu', padding='same', input_shape=(224, 224, 3)))\n",
        "model.add(Conv2D(64, (3, 3), activation='relu', padding='same'))\n",
        "model.add(MaxPooling2D((2, 2), strides=(2, 2)))\n",
        "\n",
        "model.add(Conv2D(128, (3, 3), activation='relu', padding='same'))\n",
        "model.add(Conv2D(128, (3, 3), activation='relu', padding='same'))\n",
        "model.add(MaxPooling2D((2, 2), strides=(2, 2)))\n",
        "\n",
        "model.add(Conv2D(256, (3, 3), activation='relu', padding='same'))\n",
        "model.add(Conv2D(256, (3, 3), activation='relu', padding='same'))\n",
        "model.add(Conv2D(256, (3, 3), activation='relu', padding='same'))\n",
        "model.add(MaxPooling2D((2, 2), strides=(2, 2)))\n",
        "\n",
        "model.add(Conv2D(512, (3, 3), activation='relu', padding='same'))\n",
        "model.add(Conv2D(512, (3, 3), activation='relu', padding='same'))\n",
        "model.add(Conv2D(512, (3, 3), activation='relu', padding='same'))\n",
        "model.add(MaxPooling2D((2, 2), strides=(2, 2)))\n",
        "\n",
        "model.add(Conv2D(512, (3, 3), activation='relu', padding='same'))\n",
        "model.add(Conv2D(512, (3, 3), activation='relu', padding='same'))\n",
        "model.add(Conv2D(512, (3, 3), activation='relu', padding='same'))\n",
        "model.add(MaxPooling2D((2, 2), strides=(2, 2)))\n",
        "\n",
        "# Konversi matriks fitur menjadi vektor\n",
        "model.add(Flatten())\n",
        "\n",
        "# Menambahkan layer-layer fully connected\n",
        "model.add(Dense(4096, activation='relu'))\n",
        "model.add(Dense(4096, activation='relu'))\n",
        "model.add(Dense(2, activation='sigmoid'))"
      ],
      "metadata": {
        "id": "agSTXolBCduA"
      },
      "execution_count": null,
      "outputs": []
    },
    {
      "cell_type": "code",
      "source": [
        "model.summary()"
      ],
      "metadata": {
        "colab": {
          "base_uri": "https://localhost:8080/"
        },
        "id": "yKBVUiuBCfiz",
        "outputId": "99ac6f3c-46fe-4d16-b5b6-8a8a141bc018"
      },
      "execution_count": null,
      "outputs": [
        {
          "output_type": "stream",
          "name": "stdout",
          "text": [
            "Model: \"sequential\"\n",
            "_________________________________________________________________\n",
            " Layer (type)                Output Shape              Param #   \n",
            "=================================================================\n",
            " conv2d (Conv2D)             (None, 224, 224, 64)      1792      \n",
            "                                                                 \n",
            " conv2d_1 (Conv2D)           (None, 224, 224, 64)      36928     \n",
            "                                                                 \n",
            " max_pooling2d (MaxPooling2D  (None, 112, 112, 64)     0         \n",
            " )                                                               \n",
            "                                                                 \n",
            " conv2d_2 (Conv2D)           (None, 112, 112, 128)     73856     \n",
            "                                                                 \n",
            " conv2d_3 (Conv2D)           (None, 112, 112, 128)     147584    \n",
            "                                                                 \n",
            " max_pooling2d_1 (MaxPooling  (None, 56, 56, 128)      0         \n",
            " 2D)                                                             \n",
            "                                                                 \n",
            " conv2d_4 (Conv2D)           (None, 56, 56, 256)       295168    \n",
            "                                                                 \n",
            " conv2d_5 (Conv2D)           (None, 56, 56, 256)       590080    \n",
            "                                                                 \n",
            " conv2d_6 (Conv2D)           (None, 56, 56, 256)       590080    \n",
            "                                                                 \n",
            " max_pooling2d_2 (MaxPooling  (None, 28, 28, 256)      0         \n",
            " 2D)                                                             \n",
            "                                                                 \n",
            " conv2d_7 (Conv2D)           (None, 28, 28, 512)       1180160   \n",
            "                                                                 \n",
            " conv2d_8 (Conv2D)           (None, 28, 28, 512)       2359808   \n",
            "                                                                 \n",
            " conv2d_9 (Conv2D)           (None, 28, 28, 512)       2359808   \n",
            "                                                                 \n",
            " max_pooling2d_3 (MaxPooling  (None, 14, 14, 512)      0         \n",
            " 2D)                                                             \n",
            "                                                                 \n",
            " conv2d_10 (Conv2D)          (None, 14, 14, 512)       2359808   \n",
            "                                                                 \n",
            " conv2d_11 (Conv2D)          (None, 14, 14, 512)       2359808   \n",
            "                                                                 \n",
            " conv2d_12 (Conv2D)          (None, 14, 14, 512)       2359808   \n",
            "                                                                 \n",
            " max_pooling2d_4 (MaxPooling  (None, 7, 7, 512)        0         \n",
            " 2D)                                                             \n",
            "                                                                 \n",
            " flatten (Flatten)           (None, 25088)             0         \n",
            "                                                                 \n",
            " dense (Dense)               (None, 4096)              102764544 \n",
            "                                                                 \n",
            " dense_1 (Dense)             (None, 4096)              16781312  \n",
            "                                                                 \n",
            " dense_2 (Dense)             (None, 2)                 8194      \n",
            "                                                                 \n",
            "=================================================================\n",
            "Total params: 134,268,738\n",
            "Trainable params: 134,268,738\n",
            "Non-trainable params: 0\n",
            "_________________________________________________________________\n"
          ]
        }
      ]
    },
    {
      "cell_type": "code",
      "source": [
        "model.compile(optimizer='adam',loss='categorical_crossentropy',metrics=['accuracy'])"
      ],
      "metadata": {
        "id": "CTJ-KmUdChlz"
      },
      "execution_count": null,
      "outputs": []
    },
    {
      "cell_type": "markdown",
      "source": [
        "Mengevaluasi Model yang sudah dibentuk"
      ],
      "metadata": {
        "id": "GBEJoP4Op5Qj"
      }
    },
    {
      "cell_type": "code",
      "source": [
        "model.fit(train_ds,epochs=10,validation_data=validation_ds, batch_size= 32, shuffle= True)"
      ],
      "metadata": {
        "colab": {
          "base_uri": "https://localhost:8080/"
        },
        "id": "BcedlqofCjC3",
        "outputId": "ded97e52-a054-468e-ab81-17af67b922ae"
      },
      "execution_count": null,
      "outputs": [
        {
          "output_type": "stream",
          "name": "stdout",
          "text": [
            "Epoch 1/10\n",
            "7/8 [=========================>....] - ETA: 1:08 - loss: 64.0738 - accuracy: 0.4771"
          ]
        }
      ]
    },
    {
      "cell_type": "markdown",
      "source": [
        "#Save Model CNN"
      ],
      "metadata": {
        "id": "bBpk6nVLevZk"
      }
    },
    {
      "cell_type": "markdown",
      "source": [
        "Menyimpan Model yang sudah dibuat"
      ],
      "metadata": {
        "id": "ZZ3LEIS3p97b"
      }
    },
    {
      "cell_type": "markdown",
      "source": [
        "#Testing Model to Predict"
      ],
      "metadata": {
        "id": "-1QcOtHdfpkp"
      }
    },
    {
      "cell_type": "code",
      "source": [
        "import os\n",
        "class_name=sorted(os.listdir(data_predict))\n",
        "class_name"
      ],
      "metadata": {
        "id": "HzFIjjsCmfz0"
      },
      "execution_count": null,
      "outputs": []
    },
    {
      "cell_type": "code",
      "source": [
        "IMAGE_SIZE = 224"
      ],
      "metadata": {
        "id": "jQ354bPstp7G"
      },
      "execution_count": null,
      "outputs": []
    },
    {
      "cell_type": "code",
      "source": [
        "predict_gen = ImageDataGenerator(rescale=1./255).flow_from_directory(\n",
        "    data_predict,\n",
        "    target_size=(IMAGE_SIZE,IMAGE_SIZE),\n",
        "    class_mode=\"categorical\",\n",
        ")"
      ],
      "metadata": {
        "id": "3QYmjigJtnuh"
      },
      "execution_count": null,
      "outputs": []
    },
    {
      "cell_type": "code",
      "source": [
        "def predict(model, img):\n",
        "    img_array = tf.keras.preprocessing.image.img_to_array(img)\n",
        "    img_array = tf.expand_dims(img, 0)\n",
        "    predictions = model.predict(img_array)\n",
        "    predicted_class = class_name[np.argmax(predictions)]\n",
        "    confidence = round(100 * (np.max(predictions)), 1)\n",
        "    return predicted_class, confidence"
      ],
      "metadata": {
        "id": "P3S2z9PwgSvn"
      },
      "execution_count": null,
      "outputs": []
    },
    {
      "cell_type": "code",
      "source": [
        "plt.figure(figsize=(15, 15))\n",
        "\n",
        "for images, labels in predict_gen:\n",
        "    for i in range(6):\n",
        "        ax = plt.subplot(3, 3, i + 1)\n",
        "        plt.imshow(images[i])\n",
        "        predicted_class, confidence = predict(model, images[i])\n",
        "        actual_class = class_name[int(labels[i][1])] \n",
        "        plt.title(f\"Aktual: {actual_class},\\n Prediksi: {predicted_class},\\n Akurasi: {confidence}%\")\n",
        "        plt.axis(\"off\")\n",
        "    break"
      ],
      "metadata": {
        "id": "QuwxkIv2oJaO"
      },
      "execution_count": null,
      "outputs": []
    },
    {
      "cell_type": "code",
      "source": [],
      "metadata": {
        "id": "koUNqmNvsjMY"
      },
      "execution_count": null,
      "outputs": []
    }
  ]
}